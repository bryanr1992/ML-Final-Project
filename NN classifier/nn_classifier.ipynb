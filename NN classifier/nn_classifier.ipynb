{
 "cells": [
  {
   "cell_type": "code",
   "execution_count": 1,
   "id": "d22acd76",
   "metadata": {},
   "outputs": [],
   "source": [
    "import tensorflow as tf\n",
    "import numpy as np\n",
    "import os\n",
    "import cv2\n",
    "from keras.preprocessing import image \n",
    "from sklearn.model_selection import train_test_split\n",
    "import matplotlib.pyplot as plt\n",
    "from tensorflow.keras.utils import to_categorical\n",
    "from skimage.segmentation import mark_boundaries \n",
    "from tensorflow.keras import models\n",
    "from tensorflow.keras import layers"
   ]
  },
  {
   "cell_type": "code",
   "execution_count": 2,
   "id": "cdb129dc",
   "metadata": {},
   "outputs": [],
   "source": [
    "#Get an image from the path to be used on the train test split\n",
    "def get_img_array(img_paths, dim): \n",
    "    result = []\n",
    "    for path in img_paths:\n",
    "        img = image.load_img(path, target_size = dim)\n",
    "        img = image.img_to_array(img)\n",
    "        img = img/255\n",
    "        result.append(img)\n",
    "        \n",
    "    result = np.array(result)  \n",
    "    return result"
   ]
  },
  {
   "cell_type": "markdown",
   "id": "548d93ab",
   "metadata": {},
   "source": [
    "### change path tot he training data accordingly"
   ]
  },
  {
   "cell_type": "code",
   "execution_count": 3,
   "id": "5b223eda",
   "metadata": {},
   "outputs": [],
   "source": [
    "path = 'C:\\\\Users\\\\bryan\\\\Desktop\\\\ML-FINAL\\\\data\\\\input\\\\train'"
   ]
  },
  {
   "cell_type": "markdown",
   "id": "0e2c51c5",
   "metadata": {},
   "source": [
    "### The labels are added in a specific order so the names of the file are numeric. However strings are sorted differently from integers so I sort them as integer first and then turn them into strings. If you want to train your own data, make sure you name your files in a numeric ascending order and keep track of the ranges to all of your classes.\n",
    "\n",
    "for example:\n",
    " - 0 to 2077 are knifes so they are labeled as 1\n",
    " - 2078 to 5873 are pistols so they are label as 2"
   ]
  },
  {
   "cell_type": "code",
   "execution_count": 14,
   "id": "8ce2312e",
   "metadata": {},
   "outputs": [],
   "source": [
    "def add_extension(my_list,prefix):\n",
    "    for i in range(len(my_list)):\n",
    "        my_list[i] = prefix+my_list[i]+'.jpg'"
   ]
  },
  {
   "cell_type": "code",
   "execution_count": 8,
   "id": "c434fbb1",
   "metadata": {},
   "outputs": [],
   "source": [
    "images = os.listdir(path)"
   ]
  },
  {
   "cell_type": "code",
   "execution_count": 11,
   "id": "14078d85",
   "metadata": {},
   "outputs": [],
   "source": [
    "sorted_images = [int(x[:len(x)-4]) for x in images]\n",
    "sorted_images.sort()\n",
    "\n",
    "images = [str(x) for x in sorted_images]"
   ]
  },
  {
   "cell_type": "code",
   "execution_count": 15,
   "id": "91e00efb",
   "metadata": {},
   "outputs": [],
   "source": [
    "add_extension(images, '00')"
   ]
  },
  {
   "cell_type": "code",
   "execution_count": 17,
   "id": "92ac49ae",
   "metadata": {},
   "outputs": [],
   "source": [
    "def my_train_test():\n",
    "    data = [f'{path}\\\\{i}' for i in images]\n",
    "    \n",
    "    labels = []\n",
    "    \n",
    "    for i in range(len(data)):\n",
    "        \n",
    "        if i > -1 and i <2078:\n",
    "            labels.append(1)\n",
    "        if i >2077 and i < 5873:\n",
    "            labels.append(2)\n",
    "        if i > 5872 and i < 6060:\n",
    "            labels.append(3)\n",
    "        if i > 6059 and i < 6112:\n",
    "            labels.append(0)\n",
    "        if i > 6111 and i < 6652:\n",
    "            labels.append(0)\n",
    "        if i > 6651 and i < 6781:\n",
    "            labels.append(0)\n",
    "        if i > 6780 and i < 8038:\n",
    "            labels.append(0)\n",
    "        i += 1\n",
    "        \n",
    "    x_train, x_test, y_train, y_test = train_test_split(data, labels, stratify = labels, train_size = .90, random_state = 10)\n",
    "    \n",
    "    #Get the actual images from the paths\n",
    "    \n",
    "    x_train_2 = get_img_array(x_train, (150,150))\n",
    "    x_test_2 = get_img_array(x_test, (150,150))\n",
    "    \n",
    "    y_train = np.array(y_train)\n",
    "    y_test = np.array(y_test)\n",
    "    \n",
    "    y_test = to_categorical(y_test)\n",
    "    y_train = to_categorical(y_train)\n",
    "    \n",
    "    return  x_train_2, x_test_2, y_train, y_test\n",
    "\n",
    "\n",
    "x_train, x_test, y_train, y_test = my_train_test()\n",
    "    \n",
    "    "
   ]
  },
  {
   "cell_type": "code",
   "execution_count": 18,
   "id": "bae3524f",
   "metadata": {},
   "outputs": [],
   "source": [
    "cv2.imshow('test', x_train[45])\n",
    "cv2.waitKey(0)\n",
    "cv2.destroyAllWindows()"
   ]
  },
  {
   "cell_type": "markdown",
   "id": "2372d659",
   "metadata": {},
   "source": [
    "### we drop the rgb channel to get a black and white image as the performance is better with grayscale images"
   ]
  },
  {
   "cell_type": "code",
   "execution_count": 19,
   "id": "cad8385c",
   "metadata": {},
   "outputs": [],
   "source": [
    "def drop_rgb(train):\n",
    "    new_train= []\n",
    "    for i in range(len(train)):\n",
    "        new_train.append(cv2.cvtColor(train[i], cv2.COLOR_BGR2GRAY))\n",
    "    return np.array(new_train)"
   ]
  },
  {
   "cell_type": "code",
   "execution_count": 20,
   "id": "b6601b9b",
   "metadata": {},
   "outputs": [],
   "source": [
    "new_train=drop_rgb(x_train)"
   ]
  },
  {
   "cell_type": "code",
   "execution_count": 21,
   "id": "3426a972",
   "metadata": {},
   "outputs": [
    {
     "data": {
      "text/plain": [
       "(7234, 150, 150)"
      ]
     },
     "execution_count": 21,
     "metadata": {},
     "output_type": "execute_result"
    }
   ],
   "source": [
    "new_train.shape"
   ]
  },
  {
   "cell_type": "code",
   "execution_count": 22,
   "id": "850af9ee",
   "metadata": {},
   "outputs": [
    {
     "data": {
      "text/plain": [
       "(804, 150, 150)"
      ]
     },
     "execution_count": 22,
     "metadata": {},
     "output_type": "execute_result"
    }
   ],
   "source": [
    "new_test=drop_rgb(x_test)\n",
    "new_test.shape"
   ]
  },
  {
   "cell_type": "code",
   "execution_count": 23,
   "id": "19a18ab0",
   "metadata": {},
   "outputs": [],
   "source": [
    "cv2.imshow('test', new_train[45])\n",
    "cv2.waitKey(0)\n",
    "cv2.destroyAllWindows()"
   ]
  },
  {
   "cell_type": "markdown",
   "id": "2885f5f3",
   "metadata": {},
   "source": [
    "### We have 2 hidden layers and an output layer"
   ]
  },
  {
   "cell_type": "code",
   "execution_count": 25,
   "id": "c585deb7",
   "metadata": {},
   "outputs": [
    {
     "name": "stdout",
     "output_type": "stream",
     "text": [
      "using dense network with batch size of  128\n",
      "Model: \"sequential\"\n",
      "_________________________________________________________________\n",
      " Layer (type)                Output Shape              Param #   \n",
      "=================================================================\n",
      " dense (Dense)               (None, 512)               11520512  \n",
      "                                                                 \n",
      " dense_1 (Dense)             (None, 512)               262656    \n",
      "                                                                 \n",
      " Output_Layer (Dense)        (None, 4)                 2052      \n",
      "                                                                 \n",
      "=================================================================\n",
      "Total params: 11,785,220\n",
      "Trainable params: 11,785,220\n",
      "Non-trainable params: 0\n",
      "_________________________________________________________________\n"
     ]
    }
   ],
   "source": [
    "model = models.Sequential()\n",
    "model.add(layers.Dense(512,\n",
    "                        activation='relu', \n",
    "                        input_shape=(150*150,)))\n",
    "model.add(layers.Dense(512,\n",
    "                        activation='relu'))\n",
    "model.add(layers.Dense(4, \n",
    "                        activation='softmax', name = 'Output_Layer'))\n",
    "model.compile(optimizer='rmsprop',\n",
    "                loss='categorical_crossentropy',\n",
    "                metrics=['accuracy','categorical_crossentropy'])\n",
    "batch_size = 128\n",
    "epochs = 50\n",
    "\n",
    "print ('using dense network with batch size of ', batch_size)\n",
    "\n",
    "model.summary()"
   ]
  },
  {
   "cell_type": "code",
   "execution_count": 26,
   "id": "8ad5beae",
   "metadata": {},
   "outputs": [
    {
     "name": "stdout",
     "output_type": "stream",
     "text": [
      "\n",
      "shape of training images: (7234, 150, 150) (804, 150, 150)\n",
      "\n",
      "shape of training images: (7234, 22500) (804, 22500)\n"
     ]
    }
   ],
   "source": [
    "print ('\\nshape of training images:', new_train.shape, new_test.shape)\n",
    "new_train = new_train.reshape((7234, 150 *150))\n",
    "new_test = new_test.reshape((804, 150 * 150))\n",
    "\n",
    "print ('\\nshape of training images:', new_train.shape, new_test.shape)"
   ]
  },
  {
   "cell_type": "code",
   "execution_count": 27,
   "id": "034be0d0",
   "metadata": {},
   "outputs": [
    {
     "name": "stdout",
     "output_type": "stream",
     "text": [
      "Epoch 1/50\n",
      "57/57 [==============================] - 4s 67ms/step - loss: 12.2533 - accuracy: 0.3724 - categorical_crossentropy: 12.2533 - val_loss: 1.2069 - val_accuracy: 0.3632 - val_categorical_crossentropy: 1.2069\n",
      "Epoch 2/50\n",
      "57/57 [==============================] - 4s 63ms/step - loss: 1.2395 - accuracy: 0.4762 - categorical_crossentropy: 1.2395 - val_loss: 2.9639 - val_accuracy: 0.3072 - val_categorical_crossentropy: 2.9639\n",
      "Epoch 3/50\n",
      "57/57 [==============================] - 4s 62ms/step - loss: 1.1203 - accuracy: 0.5332 - categorical_crossentropy: 1.1203 - val_loss: 0.9294 - val_accuracy: 0.5585 - val_categorical_crossentropy: 0.9294\n",
      "Epoch 4/50\n",
      "57/57 [==============================] - 4s 63ms/step - loss: 1.0847 - accuracy: 0.5648 - categorical_crossentropy: 1.0847 - val_loss: 0.9432 - val_accuracy: 0.5647 - val_categorical_crossentropy: 0.9432\n",
      "Epoch 5/50\n",
      "57/57 [==============================] - 4s 63ms/step - loss: 1.0067 - accuracy: 0.5724 - categorical_crossentropy: 1.0067 - val_loss: 0.9491 - val_accuracy: 0.5821 - val_categorical_crossentropy: 0.9491\n",
      "Epoch 6/50\n",
      "57/57 [==============================] - 4s 62ms/step - loss: 0.9337 - accuracy: 0.6149 - categorical_crossentropy: 0.9337 - val_loss: 0.9308 - val_accuracy: 0.5833 - val_categorical_crossentropy: 0.9308\n",
      "Epoch 7/50\n",
      "57/57 [==============================] - 4s 63ms/step - loss: 0.8749 - accuracy: 0.6199 - categorical_crossentropy: 0.8749 - val_loss: 0.9422 - val_accuracy: 0.5522 - val_categorical_crossentropy: 0.9422\n",
      "Epoch 8/50\n",
      "57/57 [==============================] - 4s 63ms/step - loss: 0.8337 - accuracy: 0.6240 - categorical_crossentropy: 0.8337 - val_loss: 0.8385 - val_accuracy: 0.6082 - val_categorical_crossentropy: 0.8385\n",
      "Epoch 9/50\n",
      "57/57 [==============================] - 4s 63ms/step - loss: 0.8555 - accuracy: 0.6382 - categorical_crossentropy: 0.8555 - val_loss: 1.1450 - val_accuracy: 0.5920 - val_categorical_crossentropy: 1.1450\n",
      "Epoch 10/50\n",
      "57/57 [==============================] - 4s 63ms/step - loss: 0.8286 - accuracy: 0.6493 - categorical_crossentropy: 0.8286 - val_loss: 1.0288 - val_accuracy: 0.5784 - val_categorical_crossentropy: 1.0288\n",
      "Epoch 11/50\n",
      "57/57 [==============================] - 4s 63ms/step - loss: 0.7856 - accuracy: 0.6587 - categorical_crossentropy: 0.7856 - val_loss: 0.9580 - val_accuracy: 0.6119 - val_categorical_crossentropy: 0.9580\n",
      "Epoch 12/50\n",
      "57/57 [==============================] - 4s 63ms/step - loss: 0.7986 - accuracy: 0.6594 - categorical_crossentropy: 0.7986 - val_loss: 1.0185 - val_accuracy: 0.5796 - val_categorical_crossentropy: 1.0185\n",
      "Epoch 13/50\n",
      "57/57 [==============================] - 4s 63ms/step - loss: 0.7475 - accuracy: 0.6787 - categorical_crossentropy: 0.7475 - val_loss: 0.8355 - val_accuracy: 0.6356 - val_categorical_crossentropy: 0.8355\n",
      "Epoch 14/50\n",
      "57/57 [==============================] - 4s 63ms/step - loss: 0.7351 - accuracy: 0.6845 - categorical_crossentropy: 0.7351 - val_loss: 0.8454 - val_accuracy: 0.6331 - val_categorical_crossentropy: 0.8454\n",
      "Epoch 15/50\n",
      "57/57 [==============================] - 4s 63ms/step - loss: 0.7470 - accuracy: 0.6945 - categorical_crossentropy: 0.7470 - val_loss: 0.8397 - val_accuracy: 0.6791 - val_categorical_crossentropy: 0.8397\n",
      "Epoch 16/50\n",
      "57/57 [==============================] - 4s 63ms/step - loss: 0.7407 - accuracy: 0.7045 - categorical_crossentropy: 0.7407 - val_loss: 0.8370 - val_accuracy: 0.6654 - val_categorical_crossentropy: 0.8370\n",
      "Epoch 17/50\n",
      "57/57 [==============================] - 4s 66ms/step - loss: 0.7034 - accuracy: 0.7093 - categorical_crossentropy: 0.7034 - val_loss: 0.8243 - val_accuracy: 0.6542 - val_categorical_crossentropy: 0.8243\n",
      "Epoch 18/50\n",
      "57/57 [==============================] - 4s 65ms/step - loss: 0.6530 - accuracy: 0.7220 - categorical_crossentropy: 0.6530 - val_loss: 0.8987 - val_accuracy: 0.6604 - val_categorical_crossentropy: 0.8987\n",
      "Epoch 19/50\n",
      "57/57 [==============================] - 4s 63ms/step - loss: 0.6596 - accuracy: 0.7242 - categorical_crossentropy: 0.6596 - val_loss: 0.8768 - val_accuracy: 0.6741 - val_categorical_crossentropy: 0.8768\n",
      "Epoch 20/50\n",
      "57/57 [==============================] - 4s 63ms/step - loss: 0.6838 - accuracy: 0.7239 - categorical_crossentropy: 0.6838 - val_loss: 0.8202 - val_accuracy: 0.6791 - val_categorical_crossentropy: 0.8202\n",
      "Epoch 21/50\n",
      "57/57 [==============================] - 4s 63ms/step - loss: 0.6363 - accuracy: 0.7309 - categorical_crossentropy: 0.6363 - val_loss: 0.8912 - val_accuracy: 0.6493 - val_categorical_crossentropy: 0.8912\n",
      "Epoch 22/50\n",
      "57/57 [==============================] - 4s 63ms/step - loss: 0.6214 - accuracy: 0.7414 - categorical_crossentropy: 0.6214 - val_loss: 0.7848 - val_accuracy: 0.6816 - val_categorical_crossentropy: 0.7848\n",
      "Epoch 23/50\n",
      "57/57 [==============================] - 4s 63ms/step - loss: 0.5940 - accuracy: 0.7556 - categorical_crossentropy: 0.5940 - val_loss: 0.8338 - val_accuracy: 0.6791 - val_categorical_crossentropy: 0.8338\n",
      "Epoch 24/50\n",
      "57/57 [==============================] - 4s 63ms/step - loss: 0.6066 - accuracy: 0.7452 - categorical_crossentropy: 0.6066 - val_loss: 0.8792 - val_accuracy: 0.6617 - val_categorical_crossentropy: 0.8792\n",
      "Epoch 25/50\n",
      "57/57 [==============================] - 4s 66ms/step - loss: 0.5829 - accuracy: 0.7609 - categorical_crossentropy: 0.5829 - val_loss: 0.9253 - val_accuracy: 0.6903 - val_categorical_crossentropy: 0.9253\n",
      "Epoch 26/50\n",
      "57/57 [==============================] - 4s 64ms/step - loss: 0.5957 - accuracy: 0.7586 - categorical_crossentropy: 0.5957 - val_loss: 0.9967 - val_accuracy: 0.6903 - val_categorical_crossentropy: 0.9967\n",
      "Epoch 27/50\n",
      "57/57 [==============================] - 4s 64ms/step - loss: 0.5693 - accuracy: 0.7665 - categorical_crossentropy: 0.5693 - val_loss: 1.0116 - val_accuracy: 0.6965 - val_categorical_crossentropy: 1.0116\n",
      "Epoch 28/50\n",
      "57/57 [==============================] - 4s 65ms/step - loss: 0.5920 - accuracy: 0.7669 - categorical_crossentropy: 0.5920 - val_loss: 0.9572 - val_accuracy: 0.6816 - val_categorical_crossentropy: 0.9572\n",
      "Epoch 29/50\n",
      "57/57 [==============================] - 4s 64ms/step - loss: 0.5775 - accuracy: 0.7640 - categorical_crossentropy: 0.5775 - val_loss: 1.0241 - val_accuracy: 0.6965 - val_categorical_crossentropy: 1.0241\n",
      "Epoch 30/50\n",
      "57/57 [==============================] - 4s 64ms/step - loss: 0.5447 - accuracy: 0.7763 - categorical_crossentropy: 0.5447 - val_loss: 1.0997 - val_accuracy: 0.6542 - val_categorical_crossentropy: 1.0997\n",
      "Epoch 31/50\n",
      "57/57 [==============================] - 4s 67ms/step - loss: 0.5375 - accuracy: 0.7776 - categorical_crossentropy: 0.5375 - val_loss: 1.2273 - val_accuracy: 0.6555 - val_categorical_crossentropy: 1.2273\n",
      "Epoch 32/50\n",
      "57/57 [==============================] - 4s 67ms/step - loss: 0.5529 - accuracy: 0.7814 - categorical_crossentropy: 0.5529 - val_loss: 0.8571 - val_accuracy: 0.7002 - val_categorical_crossentropy: 0.8571\n",
      "Epoch 33/50\n",
      "57/57 [==============================] - 4s 65ms/step - loss: 0.5060 - accuracy: 0.7932 - categorical_crossentropy: 0.5060 - val_loss: 1.1461 - val_accuracy: 0.6530 - val_categorical_crossentropy: 1.1461\n",
      "Epoch 34/50\n",
      "57/57 [==============================] - 4s 66ms/step - loss: 0.5290 - accuracy: 0.7861 - categorical_crossentropy: 0.5290 - val_loss: 0.8522 - val_accuracy: 0.7189 - val_categorical_crossentropy: 0.8522\n",
      "Epoch 35/50\n",
      "57/57 [==============================] - 4s 65ms/step - loss: 0.5051 - accuracy: 0.7920 - categorical_crossentropy: 0.5051 - val_loss: 0.9722 - val_accuracy: 0.6729 - val_categorical_crossentropy: 0.9722\n",
      "Epoch 36/50\n",
      "57/57 [==============================] - 4s 66ms/step - loss: 0.5028 - accuracy: 0.8011 - categorical_crossentropy: 0.5028 - val_loss: 0.9485 - val_accuracy: 0.7002 - val_categorical_crossentropy: 0.9485\n",
      "Epoch 37/50\n",
      "57/57 [==============================] - 4s 64ms/step - loss: 0.5519 - accuracy: 0.7942 - categorical_crossentropy: 0.5519 - val_loss: 1.0177 - val_accuracy: 0.6928 - val_categorical_crossentropy: 1.0177\n",
      "Epoch 38/50\n",
      "57/57 [==============================] - 4s 65ms/step - loss: 0.4874 - accuracy: 0.8030 - categorical_crossentropy: 0.4874 - val_loss: 0.9131 - val_accuracy: 0.7152 - val_categorical_crossentropy: 0.9131\n"
     ]
    },
    {
     "name": "stdout",
     "output_type": "stream",
     "text": [
      "Epoch 39/50\n",
      "57/57 [==============================] - 4s 65ms/step - loss: 0.5085 - accuracy: 0.8007 - categorical_crossentropy: 0.5085 - val_loss: 1.1514 - val_accuracy: 0.6368 - val_categorical_crossentropy: 1.1514\n",
      "Epoch 40/50\n",
      "57/57 [==============================] - 4s 68ms/step - loss: 0.5030 - accuracy: 0.8015 - categorical_crossentropy: 0.5030 - val_loss: 0.8843 - val_accuracy: 0.7289 - val_categorical_crossentropy: 0.8843\n",
      "Epoch 41/50\n",
      "57/57 [==============================] - 4s 67ms/step - loss: 0.4706 - accuracy: 0.8103 - categorical_crossentropy: 0.4706 - val_loss: 1.0995 - val_accuracy: 0.7040 - val_categorical_crossentropy: 1.0995\n",
      "Epoch 42/50\n",
      "57/57 [==============================] - 4s 68ms/step - loss: 0.4706 - accuracy: 0.8087 - categorical_crossentropy: 0.4706 - val_loss: 0.9155 - val_accuracy: 0.7077 - val_categorical_crossentropy: 0.9155\n",
      "Epoch 43/50\n",
      "57/57 [==============================] - 4s 68ms/step - loss: 0.4573 - accuracy: 0.8163 - categorical_crossentropy: 0.4573 - val_loss: 1.6923 - val_accuracy: 0.6244 - val_categorical_crossentropy: 1.6923\n",
      "Epoch 44/50\n",
      "57/57 [==============================] - 4s 67ms/step - loss: 0.4581 - accuracy: 0.8186 - categorical_crossentropy: 0.4581 - val_loss: 1.2847 - val_accuracy: 0.6604 - val_categorical_crossentropy: 1.2847\n",
      "Epoch 45/50\n",
      "57/57 [==============================] - 4s 65ms/step - loss: 0.4733 - accuracy: 0.8182 - categorical_crossentropy: 0.4733 - val_loss: 0.9264 - val_accuracy: 0.7152 - val_categorical_crossentropy: 0.9264\n",
      "Epoch 46/50\n",
      "57/57 [==============================] - 4s 67ms/step - loss: 0.4302 - accuracy: 0.8267 - categorical_crossentropy: 0.4302 - val_loss: 0.9582 - val_accuracy: 0.7052 - val_categorical_crossentropy: 0.9582\n",
      "Epoch 47/50\n",
      "57/57 [==============================] - 4s 65ms/step - loss: 0.4301 - accuracy: 0.8255 - categorical_crossentropy: 0.4301 - val_loss: 1.2061 - val_accuracy: 0.7251 - val_categorical_crossentropy: 1.2061\n",
      "Epoch 48/50\n",
      "57/57 [==============================] - 4s 65ms/step - loss: 0.4141 - accuracy: 0.8304 - categorical_crossentropy: 0.4141 - val_loss: 1.2354 - val_accuracy: 0.6953 - val_categorical_crossentropy: 1.2354\n",
      "Epoch 49/50\n",
      "57/57 [==============================] - 4s 67ms/step - loss: 0.4484 - accuracy: 0.8249 - categorical_crossentropy: 0.4484 - val_loss: 1.0836 - val_accuracy: 0.7090 - val_categorical_crossentropy: 1.0836\n",
      "Epoch 50/50\n",
      "57/57 [==============================] - 4s 66ms/step - loss: 0.4105 - accuracy: 0.8410 - categorical_crossentropy: 0.4105 - val_loss: 1.1047 - val_accuracy: 0.7214 - val_categorical_crossentropy: 1.1047\n"
     ]
    }
   ],
   "source": [
    "history=model.fit(new_train,\n",
    "            y_train,\n",
    "            epochs=epochs,\n",
    "            batch_size=batch_size,\n",
    "            validation_data=(new_test,y_test))"
   ]
  },
  {
   "cell_type": "code",
   "execution_count": 28,
   "id": "4a179a8f",
   "metadata": {},
   "outputs": [
    {
     "data": {
      "text/plain": [
       "{'loss': [12.2532958984375,\n",
       "  1.2395009994506836,\n",
       "  1.120291829109192,\n",
       "  1.0846538543701172,\n",
       "  1.0067079067230225,\n",
       "  0.9336780309677124,\n",
       "  0.8749018311500549,\n",
       "  0.833666205406189,\n",
       "  0.8555245995521545,\n",
       "  0.8285918831825256,\n",
       "  0.7855509519577026,\n",
       "  0.7986227869987488,\n",
       "  0.7475107908248901,\n",
       "  0.7350724339485168,\n",
       "  0.7469983100891113,\n",
       "  0.7406864166259766,\n",
       "  0.703352153301239,\n",
       "  0.6530154347419739,\n",
       "  0.6596081852912903,\n",
       "  0.6837717890739441,\n",
       "  0.6363268494606018,\n",
       "  0.6213681101799011,\n",
       "  0.5940391421318054,\n",
       "  0.6066149473190308,\n",
       "  0.5828636288642883,\n",
       "  0.5956934690475464,\n",
       "  0.5692663192749023,\n",
       "  0.5919952392578125,\n",
       "  0.5774866938591003,\n",
       "  0.5447054505348206,\n",
       "  0.5374938249588013,\n",
       "  0.5529409050941467,\n",
       "  0.5059830546379089,\n",
       "  0.5290398001670837,\n",
       "  0.5050836205482483,\n",
       "  0.5028408765792847,\n",
       "  0.5519124865531921,\n",
       "  0.48744329810142517,\n",
       "  0.5084975957870483,\n",
       "  0.503034234046936,\n",
       "  0.4705519676208496,\n",
       "  0.470647394657135,\n",
       "  0.45731350779533386,\n",
       "  0.4580892026424408,\n",
       "  0.4732995629310608,\n",
       "  0.4301896095275879,\n",
       "  0.4300875663757324,\n",
       "  0.41405874490737915,\n",
       "  0.44839540123939514,\n",
       "  0.4104824662208557],\n",
       " 'accuracy': [0.37240806221961975,\n",
       "  0.4762233793735504,\n",
       "  0.5331766605377197,\n",
       "  0.5648327469825745,\n",
       "  0.572435736656189,\n",
       "  0.6148741841316223,\n",
       "  0.6198506951332092,\n",
       "  0.6239978075027466,\n",
       "  0.6382361054420471,\n",
       "  0.6492949724197388,\n",
       "  0.6586950421333313,\n",
       "  0.6593862175941467,\n",
       "  0.6787393093109131,\n",
       "  0.6845452189445496,\n",
       "  0.6944981813430786,\n",
       "  0.7044512033462524,\n",
       "  0.7092894911766052,\n",
       "  0.7220072150230408,\n",
       "  0.7242189645767212,\n",
       "  0.7239425182342529,\n",
       "  0.7308542728424072,\n",
       "  0.7413602471351624,\n",
       "  0.7555985450744629,\n",
       "  0.7452308535575867,\n",
       "  0.7608515620231628,\n",
       "  0.7586397528648376,\n",
       "  0.7665191888809204,\n",
       "  0.7669339179992676,\n",
       "  0.7640309929847717,\n",
       "  0.7763339877128601,\n",
       "  0.7775781154632568,\n",
       "  0.7814487218856812,\n",
       "  0.7931987643241882,\n",
       "  0.786148726940155,\n",
       "  0.7919546365737915,\n",
       "  0.8010782599449158,\n",
       "  0.7941664457321167,\n",
       "  0.8030135631561279,\n",
       "  0.8006635308265686,\n",
       "  0.8014929294586182,\n",
       "  0.8103400468826294,\n",
       "  0.8086812496185303,\n",
       "  0.8162842392921448,\n",
       "  0.8186342120170593,\n",
       "  0.8182195425033569,\n",
       "  0.826651930809021,\n",
       "  0.8255460262298584,\n",
       "  0.8303843140602112,\n",
       "  0.824854850769043,\n",
       "  0.8410284519195557],\n",
       " 'categorical_crossentropy': [12.2532958984375,\n",
       "  1.2395009994506836,\n",
       "  1.120291829109192,\n",
       "  1.0846538543701172,\n",
       "  1.0067079067230225,\n",
       "  0.9336780309677124,\n",
       "  0.8749018311500549,\n",
       "  0.833666205406189,\n",
       "  0.8555245995521545,\n",
       "  0.8285918831825256,\n",
       "  0.7855509519577026,\n",
       "  0.7986227869987488,\n",
       "  0.7475107908248901,\n",
       "  0.7350724339485168,\n",
       "  0.7469983100891113,\n",
       "  0.7406864166259766,\n",
       "  0.703352153301239,\n",
       "  0.6530154347419739,\n",
       "  0.6596081852912903,\n",
       "  0.6837717890739441,\n",
       "  0.6363268494606018,\n",
       "  0.6213681101799011,\n",
       "  0.5940391421318054,\n",
       "  0.6066149473190308,\n",
       "  0.5828636288642883,\n",
       "  0.5956934690475464,\n",
       "  0.5692663192749023,\n",
       "  0.5919952392578125,\n",
       "  0.5774866938591003,\n",
       "  0.5447054505348206,\n",
       "  0.5374938249588013,\n",
       "  0.5529409050941467,\n",
       "  0.5059830546379089,\n",
       "  0.5290398001670837,\n",
       "  0.5050836205482483,\n",
       "  0.5028408765792847,\n",
       "  0.5519124865531921,\n",
       "  0.48744329810142517,\n",
       "  0.5084975957870483,\n",
       "  0.503034234046936,\n",
       "  0.4705519676208496,\n",
       "  0.470647394657135,\n",
       "  0.45731350779533386,\n",
       "  0.4580892026424408,\n",
       "  0.4732995629310608,\n",
       "  0.4301896095275879,\n",
       "  0.4300875663757324,\n",
       "  0.41405874490737915,\n",
       "  0.44839540123939514,\n",
       "  0.4104824662208557],\n",
       " 'val_loss': [1.2068979740142822,\n",
       "  2.9638540744781494,\n",
       "  0.9293573498725891,\n",
       "  0.9431777000427246,\n",
       "  0.9490647912025452,\n",
       "  0.9308291673660278,\n",
       "  0.9422230124473572,\n",
       "  0.8384677767753601,\n",
       "  1.144968032836914,\n",
       "  1.0288398265838623,\n",
       "  0.9579852819442749,\n",
       "  1.0185154676437378,\n",
       "  0.8354604244232178,\n",
       "  0.845397412776947,\n",
       "  0.8397459983825684,\n",
       "  0.837007462978363,\n",
       "  0.8243299126625061,\n",
       "  0.8986902832984924,\n",
       "  0.8768371343612671,\n",
       "  0.8202202916145325,\n",
       "  0.8912217617034912,\n",
       "  0.7847884297370911,\n",
       "  0.8337945938110352,\n",
       "  0.8791903257369995,\n",
       "  0.9252530932426453,\n",
       "  0.9966734051704407,\n",
       "  1.011634111404419,\n",
       "  0.9572477340698242,\n",
       "  1.0241273641586304,\n",
       "  1.0996778011322021,\n",
       "  1.2272893190383911,\n",
       "  0.8570846915245056,\n",
       "  1.1460895538330078,\n",
       "  0.852199137210846,\n",
       "  0.9722487926483154,\n",
       "  0.9485093355178833,\n",
       "  1.0177172422409058,\n",
       "  0.9130514860153198,\n",
       "  1.1514074802398682,\n",
       "  0.8842723369598389,\n",
       "  1.0995047092437744,\n",
       "  0.9155185222625732,\n",
       "  1.6923465728759766,\n",
       "  1.2846676111221313,\n",
       "  0.9264487028121948,\n",
       "  0.9582225680351257,\n",
       "  1.2061108350753784,\n",
       "  1.2353999614715576,\n",
       "  1.0835983753204346,\n",
       "  1.1047085523605347],\n",
       " 'val_accuracy': [0.3631840944290161,\n",
       "  0.3072139322757721,\n",
       "  0.5584577322006226,\n",
       "  0.5646766424179077,\n",
       "  0.5820895433425903,\n",
       "  0.5833333134651184,\n",
       "  0.5522388219833374,\n",
       "  0.608208954334259,\n",
       "  0.5920398235321045,\n",
       "  0.5783582329750061,\n",
       "  0.611940324306488,\n",
       "  0.5796020030975342,\n",
       "  0.6355721354484558,\n",
       "  0.6330845952033997,\n",
       "  0.6791045069694519,\n",
       "  0.6654228568077087,\n",
       "  0.6542288661003113,\n",
       "  0.6604477763175964,\n",
       "  0.6741293668746948,\n",
       "  0.6791045069694519,\n",
       "  0.6492537260055542,\n",
       "  0.6815920472145081,\n",
       "  0.6791045069694519,\n",
       "  0.6616915464401245,\n",
       "  0.6902984976768494,\n",
       "  0.6902984976768494,\n",
       "  0.6965174078941345,\n",
       "  0.6815920472145081,\n",
       "  0.6965174078941345,\n",
       "  0.6542288661003113,\n",
       "  0.6554726362228394,\n",
       "  0.7002487778663635,\n",
       "  0.6529850959777832,\n",
       "  0.7189054489135742,\n",
       "  0.6728855967521667,\n",
       "  0.7002487778663635,\n",
       "  0.6927860975265503,\n",
       "  0.71517413854599,\n",
       "  0.6368159055709839,\n",
       "  0.7288557291030884,\n",
       "  0.7039800882339478,\n",
       "  0.7077114582061768,\n",
       "  0.6243780851364136,\n",
       "  0.6604477763175964,\n",
       "  0.71517413854599,\n",
       "  0.7052238583564758,\n",
       "  0.7251243591308594,\n",
       "  0.6952736377716064,\n",
       "  0.7089552283287048,\n",
       "  0.7213930487632751],\n",
       " 'val_categorical_crossentropy': [1.2068979740142822,\n",
       "  2.9638540744781494,\n",
       "  0.9293573498725891,\n",
       "  0.9431777000427246,\n",
       "  0.9490647912025452,\n",
       "  0.9308291673660278,\n",
       "  0.9422230124473572,\n",
       "  0.8384677767753601,\n",
       "  1.144968032836914,\n",
       "  1.0288398265838623,\n",
       "  0.9579852819442749,\n",
       "  1.0185154676437378,\n",
       "  0.8354604244232178,\n",
       "  0.845397412776947,\n",
       "  0.8397459983825684,\n",
       "  0.837007462978363,\n",
       "  0.8243299126625061,\n",
       "  0.8986902832984924,\n",
       "  0.8768371343612671,\n",
       "  0.8202202916145325,\n",
       "  0.8912217617034912,\n",
       "  0.7847884297370911,\n",
       "  0.8337945938110352,\n",
       "  0.8791903257369995,\n",
       "  0.9252530932426453,\n",
       "  0.9966734051704407,\n",
       "  1.011634111404419,\n",
       "  0.9572477340698242,\n",
       "  1.0241273641586304,\n",
       "  1.0996778011322021,\n",
       "  1.2272893190383911,\n",
       "  0.8570846915245056,\n",
       "  1.1460895538330078,\n",
       "  0.852199137210846,\n",
       "  0.9722487926483154,\n",
       "  0.9485093355178833,\n",
       "  1.0177172422409058,\n",
       "  0.9130514860153198,\n",
       "  1.1514074802398682,\n",
       "  0.8842723369598389,\n",
       "  1.0995047092437744,\n",
       "  0.9155185222625732,\n",
       "  1.6923465728759766,\n",
       "  1.2846676111221313,\n",
       "  0.9264487028121948,\n",
       "  0.9582225680351257,\n",
       "  1.2061108350753784,\n",
       "  1.2353999614715576,\n",
       "  1.0835983753204346,\n",
       "  1.1047085523605347]}"
      ]
     },
     "execution_count": 28,
     "metadata": {},
     "output_type": "execute_result"
    }
   ],
   "source": [
    "history.history"
   ]
  },
  {
   "cell_type": "code",
   "execution_count": 30,
   "id": "8e2f2d8d",
   "metadata": {},
   "outputs": [
    {
     "data": {
      "text/plain": [
       "<matplotlib.legend.Legend at 0x1f397581ed0>"
      ]
     },
     "execution_count": 30,
     "metadata": {},
     "output_type": "execute_result"
    },
    {
     "data": {
      "image/png": "[encoded data removed]",
      "text/plain": [
       "<Figure size 576x576 with 1 Axes>"
      ]
     },
     "metadata": {
      "needs_background": "light"
     },
     "output_type": "display_data"
    }
   ],
   "source": [
    "plt.figure(figsize=(8,8))\n",
    "plt.plot(history.history['loss'], label='training categorical cross-entropy', color='blue')\n",
    "plt.plot(history.history['val_loss'], label='validation categorical cross-entropy', color='red')\n",
    "plt.title('Loss by Epoch')\n",
    "plt.xlabel('Epoch')\n",
    "plt.ylabel('Loss')\n",
    "plt.ylim([0.0, 15])\n",
    "plt.legend(loc='upper right')"
   ]
  },
  {
   "cell_type": "code",
   "execution_count": 31,
   "id": "10c93af8",
   "metadata": {},
   "outputs": [
    {
     "data": {
      "text/plain": [
       "<matplotlib.legend.Legend at 0x1f3973edfc0>"
      ]
     },
     "execution_count": 31,
     "metadata": {},
     "output_type": "execute_result"
    },
    {
     "data": {
      "image/png": "[encoded data removed]",
      "text/plain": [
       "<Figure size 576x576 with 1 Axes>"
      ]
     },
     "metadata": {
      "needs_background": "light"
     },
     "output_type": "display_data"
    }
   ],
   "source": [
    "plt.figure(figsize=(8,8))\n",
    "plt.plot(history.history['accuracy'], label='training accuracy',color='blue')\n",
    "plt.plot(history.history['val_accuracy'], label = 'validation accuracy',color='red')\n",
    "plt.title('Accuracy by Epoch')\n",
    "plt.xlabel('Epoch')\n",
    "plt.ylabel('Accuracy')\n",
    "plt.ylim([0.3, 1.])\n",
    "plt.legend(loc='lower right')"
   ]
  },
  {
   "cell_type": "code",
   "execution_count": null,
   "id": "be0bf955",
   "metadata": {},
   "outputs": [],
   "source": []
  }
 ],
 "metadata": {
  "kernelspec": {
   "display_name": "pytf2.0",
   "language": "python",
   "name": "pytf2.0"
  },
  "language_info": {
   "codemirror_mode": {
    "name": "ipython",
    "version": 3
   },
   "file_extension": ".py",
   "mimetype": "text/x-python",
   "name": "python",
   "nbconvert_exporter": "python",
   "pygments_lexer": "ipython3",
   "version": "3.10.0"
  }
 },
 "nbformat": 4,
 "nbformat_minor": 5
}

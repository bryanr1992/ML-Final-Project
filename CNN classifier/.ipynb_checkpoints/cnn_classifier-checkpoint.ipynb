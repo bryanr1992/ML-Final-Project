{
 "cells": [
  {
   "cell_type": "code",
   "execution_count": 1,
   "id": "5567d2e9",
   "metadata": {},
   "outputs": [],
   "source": [
    "import tensorflow as tf\n",
    "import numpy as np\n",
    "import os\n",
    "import cv2\n",
    "import pandas as pd\n",
    "import pickle\n",
    "from keras.preprocessing import image \n",
    "from sklearn.model_selection import train_test_split\n",
    "from sklearn.preprocessing import LabelEncoder, OneHotEncoder\n",
    "import matplotlib.pyplot as plt\n",
    "from tensorflow.keras.utils import to_categorical\n",
    "from skimage.segmentation import mark_boundaries \n",
    "from tensorflow.keras import models\n",
    "from tensorflow.keras import layers\n",
    "from tensorflow.keras.models import Sequential\n",
    "from tensorflow.keras.layers import Conv2D, MaxPooling2D, BatchNormalization, AveragePooling2D, Dense, Dropout, Flatten\n",
    "from tensorflow.keras.optimizers import Adam\n",
    "from tensorflow.keras import regularizers\n",
    "from tensorflow.keras.callbacks import ModelCheckpoint, EarlyStopping, ReduceLROnPlateau"
   ]
  },
  {
   "cell_type": "code",
   "execution_count": 2,
   "id": "71d00cc2",
   "metadata": {},
   "outputs": [],
   "source": [
    "#Get an image from the path to be used on the train test split\n",
    "def get_img_array(img_paths, dim): \n",
    "    result = []\n",
    "    for path in img_paths:\n",
    "        img = image.load_img(path, target_size = dim)\n",
    "        img = image.img_to_array(img)\n",
    "        img = img/255\n",
    "        result.append(img)\n",
    "        \n",
    "    result = np.array(result)  \n",
    "    return result"
   ]
  },
  {
   "cell_type": "markdown",
   "id": "b6299df9",
   "metadata": {},
   "source": [
    "### change path tot he training data accordingly"
   ]
  },
  {
   "cell_type": "code",
   "execution_count": 3,
   "id": "8cf390b3",
   "metadata": {},
   "outputs": [],
   "source": [
    "path = 'C:\\\\Users\\\\bryan\\\\Desktop\\\\ML-FINAL\\\\data\\\\input\\\\train'"
   ]
  },
  {
   "cell_type": "markdown",
   "id": "21483841",
   "metadata": {},
   "source": [
    "### The labels are added in a specific order so the names of the file are numeric. However strings are sorted differently from integers so I sort them as integer first and then turn them into strings. If you want to train your own data, make sure you name your files in a numeric ascending order and keep track of the ranges to all of your classes.\n",
    "\n",
    "for example:\n",
    " - 0 to 2077 are knifes so they are labeled as 1\n",
    " - 2078 to 5873 are pistols so they are label as 2"
   ]
  },
  {
   "cell_type": "code",
   "execution_count": 4,
   "id": "272c3675",
   "metadata": {},
   "outputs": [],
   "source": [
    "def add_extension(my_list,prefix):\n",
    "    for i in range(len(my_list)):\n",
    "        my_list[i] = prefix+my_list[i]+'.jpg'"
   ]
  },
  {
   "cell_type": "code",
   "execution_count": 5,
   "id": "112f78e4",
   "metadata": {},
   "outputs": [],
   "source": [
    "images = os.listdir(path)"
   ]
  },
  {
   "cell_type": "code",
   "execution_count": 6,
   "id": "c9eb0335",
   "metadata": {},
   "outputs": [],
   "source": [
    "sorted_images = [int(x[:len(x)-4]) for x in images]\n",
    "sorted_images.sort()\n",
    "\n",
    "images = [str(x) for x in sorted_images]"
   ]
  },
  {
   "cell_type": "code",
   "execution_count": 7,
   "id": "28db6476",
   "metadata": {},
   "outputs": [],
   "source": [
    "add_extension(images, '00')"
   ]
  },
  {
   "cell_type": "code",
   "execution_count": 8,
   "id": "dab20ff2",
   "metadata": {},
   "outputs": [],
   "source": [
    "def my_train_test():\n",
    "    data = [f'{path}\\\\{i}' for i in images]\n",
    "    \n",
    "    labels = []\n",
    "    \n",
    "    for i in range(len(data)):\n",
    "        \n",
    "        if i > -1 and i <2078:\n",
    "            labels.append(1)\n",
    "        if i >2077 and i < 5873:\n",
    "            labels.append(2)\n",
    "        if i > 5872 and i < 6060:\n",
    "            labels.append(3)\n",
    "        if i > 6059 and i < 6112:\n",
    "            labels.append(0)\n",
    "        if i > 6111 and i < 6652:\n",
    "            labels.append(0)\n",
    "        if i > 6651 and i < 6781:\n",
    "            labels.append(0)\n",
    "        if i > 6780 and i < 8038:\n",
    "            labels.append(0)\n",
    "        i += 1\n",
    "        \n",
    "    x_train, x_test, y_train, y_test = train_test_split(data, labels, stratify = labels, train_size = .90, random_state = 10)\n",
    "    \n",
    "    #Get the actual images from the paths\n",
    "    \n",
    "    x_train_2 = get_img_array(x_train, (150,150))\n",
    "    x_test_2 = get_img_array(x_test, (150,150))\n",
    "    \n",
    "    y_train = np.array(y_train)\n",
    "    y_test = np.array(y_test)\n",
    "    \n",
    "    y_test = to_categorical(y_test)\n",
    "    y_train = to_categorical(y_train)\n",
    "    \n",
    "    return  x_train_2, x_test_2, y_train, y_test\n",
    "\n",
    "\n",
    "x_train, x_test, y_train, y_test = my_train_test()"
   ]
  },
  {
   "cell_type": "code",
   "execution_count": 9,
   "id": "deba3a80",
   "metadata": {},
   "outputs": [],
   "source": [
    "cv2.imshow('test', x_train[45])\n",
    "cv2.waitKey(0)\n",
    "cv2.destroyAllWindows()"
   ]
  },
  {
   "cell_type": "markdown",
   "id": "846d5467",
   "metadata": {},
   "source": [
    "### In this CNN model we use a kernel of 3 by 3 and a pool size of 2 by 2 in ever max pooling layer"
   ]
  },
  {
   "cell_type": "code",
   "execution_count": 10,
   "id": "bfe24889",
   "metadata": {},
   "outputs": [],
   "source": [
    "def get_conv_model(dim = (150,150, 3)):\n",
    "    '''This function will create and compile a CNN given the input dimension'''\n",
    "    inp_shape = dim\n",
    "    act = 'relu'\n",
    "    drop = .25\n",
    "    kernal_reg = regularizers.l1(.001)\n",
    "    optimizer = Adam(learning_rate = .0001)    \n",
    "    model = Sequential() \n",
    "    model.add(Conv2D(64, kernel_size=(3,3),activation=act, input_shape = inp_shape, \n",
    "                     kernel_regularizer = kernal_reg,\n",
    "                     kernel_initializer = 'he_uniform',  padding = 'same', name = 'Input_Layer'))\n",
    "    model.add(MaxPooling2D(pool_size=(2, 2),  strides = (3,3)))\n",
    "    \n",
    "    model.add(Conv2D(64, (3, 3), activation=act, kernel_regularizer = kernal_reg, \n",
    "                     kernel_initializer = 'he_uniform',padding = 'same'))\n",
    "    model.add(MaxPooling2D(pool_size=(2, 2), strides = (3,3))) \n",
    "    \n",
    "    model.add(Conv2D(128, (3, 3), activation=act, kernel_regularizer = kernal_reg, \n",
    "                     kernel_initializer = 'he_uniform',padding = 'same'))\n",
    "    model.add(Conv2D(128, (3, 3), activation=act, kernel_regularizer = kernal_reg, \n",
    "                     kernel_initializer = 'he_uniform',padding = 'same'))\n",
    "    \n",
    "    model.add(MaxPooling2D(pool_size=(2, 2), strides = (3,3)))  \n",
    "    \n",
    "    model.add(Flatten())\n",
    "    \n",
    "    model.add(Dense(128, activation='relu'))\n",
    "    \n",
    "    model.add(Dense(64, activation='relu'))\n",
    "    \n",
    "    model.add(Dense(32, activation='relu'))\n",
    "    \n",
    "    model.add(Dropout(drop))\n",
    "    \n",
    "    model.add(Dense(4, activation='softmax', name = 'Output_Layer'))\n",
    "    \n",
    "    model.compile(loss = 'categorical_crossentropy', optimizer = optimizer, metrics = ['accuracy'])\n",
    "    return model "
   ]
  },
  {
   "cell_type": "markdown",
   "id": "04021d93",
   "metadata": {},
   "source": [
    "### This model takes a long time to train so we save the weights after training. We also use early stopping to reduce the risk of overfitting"
   ]
  },
  {
   "cell_type": "code",
   "execution_count": 11,
   "id": "cfc39ae4",
   "metadata": {},
   "outputs": [
    {
     "name": "stdout",
     "output_type": "stream",
     "text": [
      "Epoch 1/1000\n",
      "226/227 [============================>.] - ETA: 0s - loss: 10.9381 - accuracy: 0.5485\n",
      "Epoch 1: val_loss improved from inf to 9.41319, saving model to Model_Weights.h5\n",
      "227/227 [==============================] - 61s 266ms/step - loss: 10.9375 - accuracy: 0.5487 - val_loss: 9.4132 - val_accuracy: 0.6231 - lr: 1.0000e-04\n",
      "Epoch 2/1000\n",
      "226/227 [============================>.] - ETA: 0s - loss: 8.3090 - accuracy: 0.6558\n",
      "Epoch 2: val_loss improved from 9.41319 to 7.28903, saving model to Model_Weights.h5\n",
      "227/227 [==============================] - 59s 262ms/step - loss: 8.3087 - accuracy: 0.6558 - val_loss: 7.2890 - val_accuracy: 0.7090 - lr: 1.0000e-04\n",
      "Epoch 3/1000\n",
      "226/227 [============================>.] - ETA: 0s - loss: 6.5383 - accuracy: 0.7333\n",
      "Epoch 3: val_loss improved from 7.28903 to 5.87909, saving model to Model_Weights.h5\n",
      "227/227 [==============================] - 60s 266ms/step - loss: 6.5380 - accuracy: 0.7333 - val_loss: 5.8791 - val_accuracy: 0.7450 - lr: 1.0000e-04\n",
      "Epoch 4/1000\n",
      "226/227 [============================>.] - ETA: 0s - loss: 5.4295 - accuracy: 0.7618\n",
      "Epoch 4: val_loss improved from 5.87909 to 5.03368, saving model to Model_Weights.h5\n",
      "227/227 [==============================] - 60s 263ms/step - loss: 5.4295 - accuracy: 0.7617 - val_loss: 5.0337 - val_accuracy: 0.7724 - lr: 1.0000e-04\n",
      "Epoch 5/1000\n",
      "226/227 [============================>.] - ETA: 0s - loss: 4.7442 - accuracy: 0.7826\n",
      "Epoch 5: val_loss improved from 5.03368 to 4.50993, saving model to Model_Weights.h5\n",
      "227/227 [==============================] - 60s 262ms/step - loss: 4.7441 - accuracy: 0.7827 - val_loss: 4.5099 - val_accuracy: 0.7836 - lr: 1.0000e-04\n",
      "Epoch 6/1000\n",
      "226/227 [============================>.] - ETA: 0s - loss: 4.2728 - accuracy: 0.8005\n",
      "Epoch 6: val_loss improved from 4.50993 to 4.14804, saving model to Model_Weights.h5\n",
      "227/227 [==============================] - 60s 266ms/step - loss: 4.2726 - accuracy: 0.8005 - val_loss: 4.1480 - val_accuracy: 0.7786 - lr: 1.0000e-04\n",
      "Epoch 7/1000\n",
      "226/227 [============================>.] - ETA: 0s - loss: 3.9262 - accuracy: 0.8125\n",
      "Epoch 7: val_loss improved from 4.14804 to 3.86939, saving model to Model_Weights.h5\n",
      "227/227 [==============================] - 73s 321ms/step - loss: 3.9262 - accuracy: 0.8126 - val_loss: 3.8694 - val_accuracy: 0.7736 - lr: 1.0000e-04\n",
      "Epoch 8/1000\n",
      "226/227 [============================>.] - ETA: 0s - loss: 3.6388 - accuracy: 0.8205\n",
      "Epoch 8: val_loss improved from 3.86939 to 3.58291, saving model to Model_Weights.h5\n",
      "227/227 [==============================] - 69s 302ms/step - loss: 3.6389 - accuracy: 0.8204 - val_loss: 3.5829 - val_accuracy: 0.7935 - lr: 1.0000e-04\n",
      "Epoch 9/1000\n",
      "226/227 [============================>.] - ETA: 0s - loss: 3.3558 - accuracy: 0.8404\n",
      "Epoch 9: val_loss improved from 3.58291 to 3.32289, saving model to Model_Weights.h5\n",
      "227/227 [==============================] - 64s 283ms/step - loss: 3.3557 - accuracy: 0.8405 - val_loss: 3.3229 - val_accuracy: 0.8109 - lr: 1.0000e-04\n",
      "Epoch 10/1000\n",
      "226/227 [============================>.] - ETA: 0s - loss: 3.1230 - accuracy: 0.8473\n",
      "Epoch 10: val_loss improved from 3.32289 to 3.16014, saving model to Model_Weights.h5\n",
      "227/227 [==============================] - 65s 285ms/step - loss: 3.1232 - accuracy: 0.8472 - val_loss: 3.1601 - val_accuracy: 0.7973 - lr: 1.0000e-04\n",
      "Epoch 11/1000\n",
      "226/227 [============================>.] - ETA: 0s - loss: 2.9181 - accuracy: 0.8565\n",
      "Epoch 11: val_loss improved from 3.16014 to 2.95952, saving model to Model_Weights.h5\n",
      "227/227 [==============================] - 66s 291ms/step - loss: 2.9181 - accuracy: 0.8564 - val_loss: 2.9595 - val_accuracy: 0.8147 - lr: 1.0000e-04\n",
      "Epoch 12/1000\n",
      "226/227 [============================>.] - ETA: 0s - loss: 2.7326 - accuracy: 0.8677\n",
      "Epoch 12: val_loss improved from 2.95952 to 2.79530, saving model to Model_Weights.h5\n",
      "227/227 [==============================] - 69s 305ms/step - loss: 2.7327 - accuracy: 0.8676 - val_loss: 2.7953 - val_accuracy: 0.8085 - lr: 1.0000e-04\n",
      "Epoch 13/1000\n",
      "226/227 [============================>.] - ETA: 0s - loss: 2.5750 - accuracy: 0.8747\n",
      "Epoch 13: val_loss improved from 2.79530 to 2.65627, saving model to Model_Weights.h5\n",
      "227/227 [==============================] - 65s 288ms/step - loss: 2.5749 - accuracy: 0.8748 - val_loss: 2.6563 - val_accuracy: 0.8159 - lr: 1.0000e-04\n",
      "Epoch 14/1000\n",
      "226/227 [============================>.] - ETA: 0s - loss: 2.4215 - accuracy: 0.8816\n",
      "Epoch 14: val_loss improved from 2.65627 to 2.56863, saving model to Model_Weights.h5\n",
      "227/227 [==============================] - 66s 292ms/step - loss: 2.4215 - accuracy: 0.8817 - val_loss: 2.5686 - val_accuracy: 0.8159 - lr: 1.0000e-04\n",
      "Epoch 15/1000\n",
      "226/227 [============================>.] - ETA: 0s - loss: 2.2863 - accuracy: 0.8909\n",
      "Epoch 15: val_loss improved from 2.56863 to 2.43858, saving model to Model_Weights.h5\n",
      "227/227 [==============================] - 66s 291ms/step - loss: 2.2862 - accuracy: 0.8909 - val_loss: 2.4386 - val_accuracy: 0.8134 - lr: 1.0000e-04\n",
      "Epoch 16/1000\n",
      "226/227 [============================>.] - ETA: 0s - loss: 2.1526 - accuracy: 0.9000\n",
      "Epoch 16: val_loss improved from 2.43858 to 2.40368, saving model to Model_Weights.h5\n",
      "227/227 [==============================] - 66s 290ms/step - loss: 2.1526 - accuracy: 0.9001 - val_loss: 2.4037 - val_accuracy: 0.8035 - lr: 1.0000e-04\n",
      "Epoch 17/1000\n",
      "226/227 [============================>.] - ETA: 0s - loss: 2.0239 - accuracy: 0.9126\n",
      "Epoch 17: val_loss improved from 2.40368 to 2.24839, saving model to Model_Weights.h5\n",
      "227/227 [==============================] - 65s 288ms/step - loss: 2.0238 - accuracy: 0.9126 - val_loss: 2.2484 - val_accuracy: 0.8371 - lr: 1.0000e-04\n",
      "Epoch 18/1000\n",
      "226/227 [============================>.] - ETA: 0s - loss: 1.9323 - accuracy: 0.9141\n",
      "Epoch 18: val_loss improved from 2.24839 to 2.15726, saving model to Model_Weights.h5\n",
      "227/227 [==============================] - 66s 289ms/step - loss: 1.9323 - accuracy: 0.9142 - val_loss: 2.1573 - val_accuracy: 0.8147 - lr: 1.0000e-04\n",
      "Epoch 19/1000\n",
      "226/227 [============================>.] - ETA: 0s - loss: 1.8294 - accuracy: 0.9217\n",
      "Epoch 19: val_loss improved from 2.15726 to 2.09610, saving model to Model_Weights.h5\n",
      "227/227 [==============================] - 67s 293ms/step - loss: 1.8294 - accuracy: 0.9218 - val_loss: 2.0961 - val_accuracy: 0.8221 - lr: 1.0000e-04\n",
      "Epoch 20/1000\n",
      "226/227 [============================>.] - ETA: 0s - loss: 1.7388 - accuracy: 0.9251\n",
      "Epoch 20: val_loss improved from 2.09610 to 2.02079, saving model to Model_Weights.h5\n",
      "227/227 [==============================] - 66s 293ms/step - loss: 1.7387 - accuracy: 0.9251 - val_loss: 2.0208 - val_accuracy: 0.8308 - lr: 1.0000e-04\n",
      "Epoch 21/1000\n",
      "226/227 [============================>.] - ETA: 0s - loss: 1.6477 - accuracy: 0.9349\n",
      "Epoch 21: val_loss did not improve from 2.02079\n",
      "227/227 [==============================] - 65s 287ms/step - loss: 1.6477 - accuracy: 0.9349 - val_loss: 2.0286 - val_accuracy: 0.8134 - lr: 1.0000e-04\n",
      "Epoch 22/1000\n",
      "226/227 [============================>.] - ETA: 0s - loss: 1.5699 - accuracy: 0.9437\n",
      "Epoch 22: val_loss improved from 2.02079 to 1.92752, saving model to Model_Weights.h5\n",
      "227/227 [==============================] - 66s 289ms/step - loss: 1.5699 - accuracy: 0.9437 - val_loss: 1.9275 - val_accuracy: 0.8109 - lr: 1.0000e-04\n",
      "Epoch 23/1000\n",
      "226/227 [============================>.] - ETA: 0s - loss: 1.4993 - accuracy: 0.9408\n",
      "Epoch 23: val_loss improved from 1.92752 to 1.89817, saving model to Model_Weights.h5\n",
      "227/227 [==============================] - 67s 293ms/step - loss: 1.4992 - accuracy: 0.9408 - val_loss: 1.8982 - val_accuracy: 0.8284 - lr: 1.0000e-04\n",
      "Epoch 24/1000\n",
      "226/227 [============================>.] - ETA: 0s - loss: 1.4328 - accuracy: 0.9487\n",
      "Epoch 24: val_loss improved from 1.89817 to 1.84587, saving model to Model_Weights.h5\n",
      "227/227 [==============================] - 66s 289ms/step - loss: 1.4327 - accuracy: 0.9487 - val_loss: 1.8459 - val_accuracy: 0.8321 - lr: 1.0000e-04\n",
      "Epoch 25/1000\n",
      "226/227 [============================>.] - ETA: 0s - loss: 1.3771 - accuracy: 0.9499\n",
      "Epoch 25: val_loss did not improve from 1.84587\n",
      "227/227 [==============================] - 65s 288ms/step - loss: 1.3771 - accuracy: 0.9500 - val_loss: 1.9043 - val_accuracy: 0.8097 - lr: 1.0000e-04\n"
     ]
    },
    {
     "name": "stdout",
     "output_type": "stream",
     "text": [
      "Epoch 26/1000\n",
      "226/227 [============================>.] - ETA: 0s - loss: 1.3125 - accuracy: 0.9566\n",
      "Epoch 26: val_loss improved from 1.84587 to 1.76121, saving model to Model_Weights.h5\n",
      "227/227 [==============================] - 65s 288ms/step - loss: 1.3125 - accuracy: 0.9566 - val_loss: 1.7612 - val_accuracy: 0.8308 - lr: 1.0000e-04\n",
      "Epoch 27/1000\n",
      "226/227 [============================>.] - ETA: 0s - loss: 1.2560 - accuracy: 0.9567\n",
      "Epoch 27: val_loss improved from 1.76121 to 1.69994, saving model to Model_Weights.h5\n",
      "227/227 [==============================] - 67s 295ms/step - loss: 1.2560 - accuracy: 0.9567 - val_loss: 1.6999 - val_accuracy: 0.8284 - lr: 1.0000e-04\n",
      "Epoch 28/1000\n",
      "226/227 [============================>.] - ETA: 0s - loss: 1.1988 - accuracy: 0.9642\n",
      "Epoch 28: val_loss did not improve from 1.69994\n",
      "227/227 [==============================] - 62s 272ms/step - loss: 1.1988 - accuracy: 0.9642 - val_loss: 1.7255 - val_accuracy: 0.8234 - lr: 1.0000e-04\n",
      "Epoch 29/1000\n",
      "226/227 [============================>.] - ETA: 0s - loss: 1.1627 - accuracy: 0.9614\n",
      "Epoch 29: val_loss did not improve from 1.69994\n",
      "227/227 [==============================] - 62s 274ms/step - loss: 1.1627 - accuracy: 0.9614 - val_loss: 1.7240 - val_accuracy: 0.8234 - lr: 1.0000e-04\n",
      "Epoch 30/1000\n",
      "226/227 [============================>.] - ETA: 0s - loss: 1.0865 - accuracy: 0.9801\n",
      "Epoch 30: val_loss improved from 1.69994 to 1.68187, saving model to Model_Weights.h5\n",
      "227/227 [==============================] - 63s 276ms/step - loss: 1.0865 - accuracy: 0.9801 - val_loss: 1.6819 - val_accuracy: 0.8308 - lr: 1.0000e-05\n",
      "Epoch 31/1000\n",
      "226/227 [============================>.] - ETA: 0s - loss: 1.0698 - accuracy: 0.9826\n",
      "Epoch 31: val_loss did not improve from 1.68187\n",
      "227/227 [==============================] - 68s 300ms/step - loss: 1.0698 - accuracy: 0.9826 - val_loss: 1.6909 - val_accuracy: 0.8383 - lr: 1.0000e-05\n",
      "Epoch 32/1000\n",
      "226/227 [============================>.] - ETA: 0s - loss: 1.0586 - accuracy: 0.9864\n",
      "Epoch 32: val_loss improved from 1.68187 to 1.68161, saving model to Model_Weights.h5\n",
      "227/227 [==============================] - 70s 309ms/step - loss: 1.0586 - accuracy: 0.9865 - val_loss: 1.6816 - val_accuracy: 0.8221 - lr: 1.0000e-05\n",
      "Epoch 33/1000\n",
      "226/227 [============================>.] - ETA: 0s - loss: 1.0527 - accuracy: 0.9858\n",
      "Epoch 33: val_loss improved from 1.68161 to 1.67141, saving model to Model_Weights.h5\n",
      "227/227 [==============================] - 66s 290ms/step - loss: 1.0527 - accuracy: 0.9858 - val_loss: 1.6714 - val_accuracy: 0.8271 - lr: 1.0000e-05\n",
      "Epoch 34/1000\n",
      "226/227 [============================>.] - ETA: 0s - loss: 1.0420 - accuracy: 0.9867\n",
      "Epoch 34: val_loss improved from 1.67141 to 1.66639, saving model to Model_Weights.h5\n",
      "227/227 [==============================] - 63s 277ms/step - loss: 1.0420 - accuracy: 0.9867 - val_loss: 1.6664 - val_accuracy: 0.8333 - lr: 1.0000e-05\n",
      "Epoch 35/1000\n",
      "226/227 [============================>.] - ETA: 0s - loss: 1.0350 - accuracy: 0.9891\n",
      "Epoch 35: val_loss did not improve from 1.66639\n",
      "227/227 [==============================] - 67s 297ms/step - loss: 1.0350 - accuracy: 0.9891 - val_loss: 1.6713 - val_accuracy: 0.8346 - lr: 1.0000e-05\n",
      "Epoch 36/1000\n",
      "226/227 [============================>.] - ETA: 0s - loss: 1.0285 - accuracy: 0.9862\n",
      "Epoch 36: val_loss did not improve from 1.66639\n",
      "227/227 [==============================] - 65s 288ms/step - loss: 1.0285 - accuracy: 0.9862 - val_loss: 1.6668 - val_accuracy: 0.8333 - lr: 1.0000e-05\n",
      "Epoch 37/1000\n",
      "226/227 [============================>.] - ETA: 0s - loss: 1.0215 - accuracy: 0.9876\n",
      "Epoch 37: val_loss improved from 1.66639 to 1.66238, saving model to Model_Weights.h5\n",
      "227/227 [==============================] - 65s 286ms/step - loss: 1.0215 - accuracy: 0.9876 - val_loss: 1.6624 - val_accuracy: 0.8346 - lr: 1.0000e-06\n",
      "Epoch 38/1000\n",
      "226/227 [============================>.] - ETA: 0s - loss: 1.0215 - accuracy: 0.9880\n",
      "Epoch 38: val_loss improved from 1.66238 to 1.66132, saving model to Model_Weights.h5\n",
      "227/227 [==============================] - 63s 279ms/step - loss: 1.0215 - accuracy: 0.9880 - val_loss: 1.6613 - val_accuracy: 0.8333 - lr: 1.0000e-06\n",
      "Epoch 39/1000\n",
      "226/227 [============================>.] - ETA: 0s - loss: 1.0190 - accuracy: 0.9876\n",
      "Epoch 39: val_loss did not improve from 1.66132\n",
      "227/227 [==============================] - 63s 279ms/step - loss: 1.0190 - accuracy: 0.9876 - val_loss: 1.6623 - val_accuracy: 0.8346 - lr: 1.0000e-06\n",
      "Epoch 40/1000\n",
      "226/227 [============================>.] - ETA: 0s - loss: 1.0168 - accuracy: 0.9892\n",
      "Epoch 40: val_loss improved from 1.66132 to 1.66113, saving model to Model_Weights.h5\n",
      "227/227 [==============================] - 64s 284ms/step - loss: 1.0170 - accuracy: 0.9891 - val_loss: 1.6611 - val_accuracy: 0.8346 - lr: 1.0000e-06\n",
      "Epoch 41/1000\n",
      "226/227 [============================>.] - ETA: 0s - loss: 1.0187 - accuracy: 0.9877\n",
      "Epoch 41: val_loss improved from 1.66113 to 1.65983, saving model to Model_Weights.h5\n",
      "227/227 [==============================] - 64s 281ms/step - loss: 1.0186 - accuracy: 0.9877 - val_loss: 1.6598 - val_accuracy: 0.8333 - lr: 1.0000e-06\n",
      "Epoch 42/1000\n",
      "226/227 [============================>.] - ETA: 0s - loss: 1.0162 - accuracy: 0.9898\n",
      "Epoch 42: val_loss did not improve from 1.65983\n",
      "227/227 [==============================] - 67s 297ms/step - loss: 1.0162 - accuracy: 0.9898 - val_loss: 1.6613 - val_accuracy: 0.8346 - lr: 1.0000e-06\n",
      "Epoch 43/1000\n",
      "226/227 [============================>.] - ETA: 0s - loss: 1.0163 - accuracy: 0.9874\n",
      "Epoch 43: val_loss improved from 1.65983 to 1.65887, saving model to Model_Weights.h5\n",
      "227/227 [==============================] - 66s 290ms/step - loss: 1.0163 - accuracy: 0.9874 - val_loss: 1.6589 - val_accuracy: 0.8321 - lr: 1.0000e-06\n",
      "Epoch 44/1000\n",
      "226/227 [============================>.] - ETA: 0s - loss: 1.0127 - accuracy: 0.9889\n",
      "Epoch 44: val_loss did not improve from 1.65887\n",
      "227/227 [==============================] - 67s 295ms/step - loss: 1.0127 - accuracy: 0.9889 - val_loss: 1.6607 - val_accuracy: 0.8346 - lr: 1.0000e-06\n",
      "Epoch 45/1000\n",
      "226/227 [============================>.] - ETA: 0s - loss: 1.0142 - accuracy: 0.9885\n",
      "Epoch 45: val_loss did not improve from 1.65887\n",
      "227/227 [==============================] - 66s 289ms/step - loss: 1.0142 - accuracy: 0.9885 - val_loss: 1.6595 - val_accuracy: 0.8333 - lr: 1.0000e-06\n",
      "Epoch 46/1000\n",
      "226/227 [============================>.] - ETA: 0s - loss: 1.0113 - accuracy: 0.9909\n",
      "Epoch 46: val_loss did not improve from 1.65887\n",
      "227/227 [==============================] - 65s 285ms/step - loss: 1.0113 - accuracy: 0.9909 - val_loss: 1.6591 - val_accuracy: 0.8333 - lr: 1.0000e-07\n",
      "Epoch 47/1000\n",
      "226/227 [============================>.] - ETA: 0s - loss: 1.0109 - accuracy: 0.9909\n",
      "Epoch 47: val_loss did not improve from 1.65887\n",
      "227/227 [==============================] - 65s 284ms/step - loss: 1.0109 - accuracy: 0.9909 - val_loss: 1.6592 - val_accuracy: 0.8333 - lr: 1.0000e-07\n",
      "Epoch 48/1000\n",
      "226/227 [============================>.] - ETA: 0s - loss: 1.0107 - accuracy: 0.9902\n",
      "Epoch 48: val_loss did not improve from 1.65887\n",
      "227/227 [==============================] - 64s 282ms/step - loss: 1.0106 - accuracy: 0.9902 - val_loss: 1.6592 - val_accuracy: 0.8333 - lr: 1.0000e-08\n",
      "Epoch 49/1000\n",
      "226/227 [============================>.] - ETA: 0s - loss: 1.0126 - accuracy: 0.9898\n",
      "Epoch 49: val_loss did not improve from 1.65887\n",
      "227/227 [==============================] - 65s 284ms/step - loss: 1.0125 - accuracy: 0.9898 - val_loss: 1.6592 - val_accuracy: 0.8333 - lr: 1.0000e-08\n",
      "Epoch 50/1000\n",
      "226/227 [============================>.] - ETA: 0s - loss: 1.0126 - accuracy: 0.9892\n",
      "Epoch 50: val_loss did not improve from 1.65887\n",
      "227/227 [==============================] - 64s 283ms/step - loss: 1.0125 - accuracy: 0.9892 - val_loss: 1.6592 - val_accuracy: 0.8333 - lr: 1.0000e-09\n",
      "Epoch 51/1000\n",
      "226/227 [============================>.] - ETA: 0s - loss: 1.0131 - accuracy: 0.9887\n",
      "Epoch 51: val_loss did not improve from 1.65887\n",
      "227/227 [==============================] - 65s 286ms/step - loss: 1.0130 - accuracy: 0.9887 - val_loss: 1.6592 - val_accuracy: 0.8333 - lr: 1.0000e-09\n",
      "Epoch 52/1000\n",
      "226/227 [============================>.] - ETA: 0s - loss: 1.0122 - accuracy: 0.9889\n",
      "Epoch 52: val_loss did not improve from 1.65887\n",
      "227/227 [==============================] - 63s 280ms/step - loss: 1.0122 - accuracy: 0.9889 - val_loss: 1.6592 - val_accuracy: 0.8333 - lr: 1.0000e-10\n",
      "Epoch 53/1000\n",
      "226/227 [============================>.] - ETA: 0s - loss: 1.0130 - accuracy: 0.9880\n",
      "Epoch 53: val_loss did not improve from 1.65887\n",
      "227/227 [==============================] - 64s 280ms/step - loss: 1.0129 - accuracy: 0.9880 - val_loss: 1.6592 - val_accuracy: 0.8333 - lr: 1.0000e-10\n",
      "Epoch 53: early stopping\n"
     ]
    }
   ],
   "source": [
    "#prevents overfitting and saves models every time the validation loss improves\n",
    "from os import getcwd\n",
    "\n",
    "p = getcwd()\n",
    "\n",
    "p = os.path.join(p, \"weights\")\n",
    "\n",
    "early_stopping = EarlyStopping(monitor='val_loss', verbose = 1, patience=10, min_delta = .00075)\n",
    "\n",
    "model_checkpoint = ModelCheckpoint(f'{p}\\\\Model_Weights.h5', verbose = 1, save_best_only=True,\n",
    "                                  monitor = 'val_loss')\n",
    "\n",
    "lr_plat = ReduceLROnPlateau(patience = 2, mode = 'min')\n",
    "\n",
    "epochs = 1000\n",
    "batch_size = 32\n",
    "model = get_conv_model()\n",
    "\n",
    "model_history = model.fit(x_train, y_train, batch_size = batch_size,\n",
    "            epochs = epochs, \n",
    "     callbacks = [early_stopping, model_checkpoint, lr_plat], validation_data = (x_test, y_test), verbose= 1)\n"
   ]
  },
  {
   "cell_type": "code",
   "execution_count": 14,
   "id": "4a9f89a8",
   "metadata": {},
   "outputs": [
    {
     "name": "stdout",
     "output_type": "stream",
     "text": [
      "Model: \"sequential\"\n",
      "_________________________________________________________________\n",
      " Layer (type)                Output Shape              Param #   \n",
      "=================================================================\n",
      " Input_Layer (Conv2D)        (None, 150, 150, 64)      1792      \n",
      "                                                                 \n",
      " max_pooling2d (MaxPooling2D  (None, 50, 50, 64)       0         \n",
      " )                                                               \n",
      "                                                                 \n",
      " conv2d (Conv2D)             (None, 50, 50, 64)        36928     \n",
      "                                                                 \n",
      " max_pooling2d_1 (MaxPooling  (None, 17, 17, 64)       0         \n",
      " 2D)                                                             \n",
      "                                                                 \n",
      " conv2d_1 (Conv2D)           (None, 17, 17, 128)       73856     \n",
      "                                                                 \n",
      " conv2d_2 (Conv2D)           (None, 17, 17, 128)       147584    \n",
      "                                                                 \n",
      " max_pooling2d_2 (MaxPooling  (None, 6, 6, 128)        0         \n",
      " 2D)                                                             \n",
      "                                                                 \n",
      " flatten (Flatten)           (None, 4608)              0         \n",
      "                                                                 \n",
      " dense (Dense)               (None, 128)               589952    \n",
      "                                                                 \n",
      " dense_1 (Dense)             (None, 64)                8256      \n",
      "                                                                 \n",
      " dense_2 (Dense)             (None, 32)                2080      \n",
      "                                                                 \n",
      " dropout (Dropout)           (None, 32)                0         \n",
      "                                                                 \n",
      " Output_Layer (Dense)        (None, 4)                 132       \n",
      "                                                                 \n",
      "=================================================================\n",
      "Total params: 860,580\n",
      "Trainable params: 860,580\n",
      "Non-trainable params: 0\n",
      "_________________________________________________________________\n"
     ]
    }
   ],
   "source": [
    "model.summary()"
   ]
  },
  {
   "cell_type": "code",
   "execution_count": 12,
   "id": "7f1a3d10",
   "metadata": {},
   "outputs": [
    {
     "data": {
      "text/plain": [
       "<matplotlib.legend.Legend at 0x2217e3220e0>"
      ]
     },
     "execution_count": 12,
     "metadata": {},
     "output_type": "execute_result"
    },
    {
     "data": {
      "image/png": "[encoded data removed]",
      "text/plain": [
       "<Figure size 576x576 with 1 Axes>"
      ]
     },
     "metadata": {
      "needs_background": "light"
     },
     "output_type": "display_data"
    }
   ],
   "source": [
    "plt.figure(figsize=(8,8))\n",
    "plt.plot(model_history.history['loss'], label='training categorical cross-entropy', color='blue')\n",
    "plt.plot(model_history.history['val_loss'], label='validation categorical cross-entropy', color='red')\n",
    "plt.title('Loss by Epoch')\n",
    "plt.xlabel('Epoch')\n",
    "plt.ylabel('Loss')\n",
    "plt.ylim([0.0, 20])\n",
    "plt.legend(loc='upper right')"
   ]
  },
  {
   "cell_type": "code",
   "execution_count": 13,
   "id": "f4906381",
   "metadata": {
    "scrolled": false
   },
   "outputs": [
    {
     "data": {
      "text/plain": [
       "<matplotlib.legend.Legend at 0x2210de52020>"
      ]
     },
     "execution_count": 13,
     "metadata": {},
     "output_type": "execute_result"
    },
    {
     "data": {
      "image/png": "[encoded data removed]",
      "text/plain": [
       "<Figure size 576x576 with 1 Axes>"
      ]
     },
     "metadata": {
      "needs_background": "light"
     },
     "output_type": "display_data"
    }
   ],
   "source": [
    "plt.figure(figsize=(8,8))\n",
    "plt.plot(model_history.history['accuracy'], label='training accuracy',color='blue')\n",
    "plt.plot(model_history.history['val_accuracy'], label = 'validation accuracy',color='red')\n",
    "plt.title('Accuracy by Epoch')\n",
    "plt.xlabel('Epoch')\n",
    "plt.ylabel('Accuracy')\n",
    "plt.ylim([0.6, 1.])\n",
    "plt.legend(loc='lower right')"
   ]
  },
  {
   "cell_type": "markdown",
   "id": "f7e5d9ac",
   "metadata": {},
   "source": [
    "# To load the model after training, execute the cell below"
   ]
  },
  {
   "cell_type": "code",
   "execution_count": null,
   "id": "fe4fcd70",
   "metadata": {},
   "outputs": [],
   "source": [
    "# Make sure to have the correct path to the weights\n",
    "\n",
    "# To get the path (unless changed) do:\n",
    "\n",
    "from os import getcwd\n",
    "\n",
    "p = getcwd()\n",
    "\n",
    "p = os.path.join(p, \"weights\", \"Model_Weights.h5\")"
   ]
  },
  {
   "cell_type": "code",
   "execution_count": null,
   "id": "36103676",
   "metadata": {},
   "outputs": [],
   "source": [
    "model = get_conv_model()\n",
    "model.load_weights('Model_Weights.h5')"
   ]
  }
 ],
 "metadata": {
  "kernelspec": {
   "display_name": "pytf2.0",
   "language": "python",
   "name": "pytf2.0"
  },
  "language_info": {
   "codemirror_mode": {
    "name": "ipython",
    "version": 3
   },
   "file_extension": ".py",
   "mimetype": "text/x-python",
   "name": "python",
   "nbconvert_exporter": "python",
   "pygments_lexer": "ipython3",
   "version": "3.10.0"
  }
 },
 "nbformat": 4,
 "nbformat_minor": 5
}
